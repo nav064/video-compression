{
 "cells": [
  {
   "cell_type": "code",
   "execution_count": 1,
   "metadata": {},
   "outputs": [
    {
     "name": "stdout",
     "output_type": "stream",
     "text": [
      "/usr/bin/ffmpeg\n",
      "Done!\n"
     ]
    }
   ],
   "source": [
    "# Download a static FFmpeg build and add it to PATH.\n",
    "%run 'util/load-ffmpeg.ipynb'\n",
    "\n",
    "input_file = 'input.mp4'\n",
    "\n",
    "print('Done!')"
   ]
  },
  {
   "cell_type": "code",
   "execution_count": 2,
   "metadata": {
    "scrolled": true
   },
   "outputs": [
    {
     "data": {
      "text/html": [
       "\n",
       "<h3>Input video</h3>\n",
       "<video muted loop controls>\n",
       "  <source src=\"input.mp4\" type=\"video/mp4\">\n",
       "</video>"
      ],
      "text/plain": [
       "<IPython.core.display.HTML object>"
      ]
     },
     "execution_count": 2,
     "metadata": {},
     "output_type": "execute_result"
    }
   ],
   "source": [
    "from IPython.display import HTML\n",
    "HTML(\n",
    "\"\"\"\n",
    "<h3>Input video</h3>\n",
    "<video muted loop controls>\n",
    "  <source src=\"%s\" type=\"video/mp4\">\n",
    "</video>\"\"\" % input_file)"
   ]
  },
  {
   "cell_type": "code",
   "execution_count": 3,
   "metadata": {},
   "outputs": [
    {
     "ename": "ModuleNotFoundError",
     "evalue": "No module named 'plotly'",
     "output_type": "error",
     "traceback": [
      "\u001b[0;31m---------------------------------------------------------------------------\u001b[0m",
      "\u001b[0;31mModuleNotFoundError\u001b[0m                       Traceback (most recent call last)",
      "\u001b[0;32m<ipython-input-3-460c08c311c4>\u001b[0m in \u001b[0;36m<module>\u001b[0;34m\u001b[0m\n\u001b[1;32m     36\u001b[0m \u001b[0mframes\u001b[0m \u001b[0;34m=\u001b[0m \u001b[0mparseOutput\u001b[0m\u001b[0;34m(\u001b[0m\u001b[0moutput\u001b[0m\u001b[0;34m)\u001b[0m\u001b[0;34m\u001b[0m\u001b[0;34m\u001b[0m\u001b[0m\n\u001b[1;32m     37\u001b[0m \u001b[0;34m\u001b[0m\u001b[0m\n\u001b[0;32m---> 38\u001b[0;31m \u001b[0;32mimport\u001b[0m \u001b[0mplotly\u001b[0m\u001b[0;34m.\u001b[0m\u001b[0mexpress\u001b[0m \u001b[0;32mas\u001b[0m \u001b[0mpx\u001b[0m\u001b[0;34m\u001b[0m\u001b[0;34m\u001b[0m\u001b[0m\n\u001b[0m\u001b[1;32m     39\u001b[0m \u001b[0mframesize_df\u001b[0m \u001b[0;34m=\u001b[0m \u001b[0mtoPandasDf\u001b[0m\u001b[0;34m(\u001b[0m\u001b[0mframes\u001b[0m\u001b[0;34m)\u001b[0m\u001b[0;34m\u001b[0m\u001b[0;34m\u001b[0m\u001b[0m\n\u001b[1;32m     40\u001b[0m \u001b[0;34m\u001b[0m\u001b[0m\n",
      "\u001b[0;31mModuleNotFoundError\u001b[0m: No module named 'plotly'"
     ]
    }
   ],
   "source": [
    "# Plot an interactive visualization of the frame size of the input video.\n",
    "\n",
    "output=!ffprobe -hide_banner -v error -select_streams v:0 -show_frames {input_file}\n",
    "    \n",
    "import pandas as pd\n",
    "import numpy as np\n",
    "\n",
    "def parseOutput(output_lines):\n",
    "    frames = []\n",
    "    current_frame = {}\n",
    "    for line in output_lines:\n",
    "        if line == '[/FRAME]':\n",
    "            frames.append(current_frame)\n",
    "            current_frame = {}\n",
    "        elif line != '[FRAME]':\n",
    "            pair = line.split('=')\n",
    "            current_frame[pair[0]] = pair[1]\n",
    "    return frames\n",
    "\n",
    "def countByFrameType(frames):\n",
    "    count = {}\n",
    "    for frame in frames:\n",
    "        t = frame['pict_type']\n",
    "        count[t] = (count[t] + 1) if t in count else 1\n",
    "    return count\n",
    "\n",
    "def toPandasDf(frames): \n",
    "    dict_obj = {\n",
    "        'frame index': range(len(frames)),\n",
    "        'size (bytes)': [int(f['pkt_size']) for f in frames],\n",
    "        'type': [f['pict_type'] for f in frames]\n",
    "    }\n",
    "\n",
    "    return pd.DataFrame.from_dict(dict_obj)\n",
    "\n",
    "frames = parseOutput(output)\n",
    "\n",
    "import plotly.express as px\n",
    "framesize_df = toPandasDf(frames)\n",
    "\n",
    "fig = px.bar(framesize_df, x=\"frame index\", y=\"size (bytes)\", color=\"type\")\n",
    "fig.show()\n"
   ]
  },
  {
   "cell_type": "code",
   "execution_count": 4,
   "metadata": {
    "scrolled": true
   },
   "outputs": [
    {
     "name": "stdout",
     "output_type": "stream",
     "text": [
      "Input #0, mov,mp4,m4a,3gp,3g2,mj2, from 'output.mp4':\n",
      "  Metadata:\n",
      "    major_brand     : isom\n",
      "    minor_version   : 512\n",
      "    compatible_brands: isomiso2avc1mp41\n",
      "    encoder         : Lavf58.29.100\n",
      "  Duration: 00:00:10.03, start: 0.000000, bitrate: 687 kb/s\n",
      "    Stream #0:0(und): Video: h264 (High) (avc1 / 0x31637661), yuv420p, 864x360 [SAR 1:1 DAR 12:5], 551 kb/s, 24 fps, 24 tbr, 12288 tbn, 48 tbc (default)\n",
      "    Metadata:\n",
      "      handler_name    : VideoHandler\n",
      "    Stream #0:1(und): Audio: aac (LC) (mp4a / 0x6134706D), 48000 Hz, stereo, fltp, 128 kb/s (default)\n",
      "    Metadata:\n",
      "      handler_name    : SoundHandler\n",
      "Input #1, mov,mp4,m4a,3gp,3g2,mj2, from 'input.mp4':\n",
      "  Metadata:\n",
      "    major_brand     : isom\n",
      "    minor_version   : 512\n",
      "    compatible_brands: isomiso2avc1mp41\n",
      "    encoder         : Lavf58.29.100\n",
      "  Duration: 00:00:10.02, start: 0.000000, bitrate: 2018 kb/s\n",
      "    Stream #1:0(und): Video: h264 (High) (avc1 / 0x31637661), yuv420p, 864x360 [SAR 1:1 DAR 12:5], 1885 kb/s, 24 fps, 24 tbr, 12288 tbn, 48 tbc (default)\n",
      "    Metadata:\n",
      "      handler_name    : VideoHandler\n",
      "    Stream #1:1(und): Audio: aac (LC) (mp4a / 0x6134706D), 48000 Hz, stereo, fltp, 128 kb/s (default)\n",
      "    Metadata:\n",
      "      handler_name    : SoundHandler\n",
      "Stream mapping:\n",
      "  Stream #0:0 (h264) -> libvmaf:main (graph 0)\n",
      "  Stream #1:0 (h264) -> libvmaf:reference (graph 0)\n",
      "  libvmaf (graph 0) -> Stream #0:0 (wrapped_avframe)\n",
      "  Stream #0:1 -> #0:1 (aac (native) -> pcm_s16le (native))\n",
      "Press [q] to stop, [?] for help\n",
      "Output #0, null, to 'pipe:':\n",
      "  Metadata:\n",
      "    major_brand     : isom\n",
      "    minor_version   : 512\n",
      "    compatible_brands: isomiso2avc1mp41\n",
      "    encoder         : Lavf58.29.100\n",
      "    Stream #0:0: Video: wrapped_avframe, yuv420p, 864x360 [SAR 1:1 DAR 12:5], q=2-31, 200 kb/s, 24 fps, 24 tbn, 24 tbc (default)\n",
      "    Metadata:\n",
      "      encoder         : Lavc58.54.100 wrapped_avframe\n",
      "    Stream #0:1(und): Audio: pcm_s16le, 48000 Hz, stereo, s16, 1536 kb/s (default)\n",
      "    Metadata:\n",
      "      handler_name    : SoundHandler\n",
      "      encoder         : Lavc58.54.100 pcm_s16le\n",
      "frame=  240 fps= 47 q=-0.0 Lsize=N/A time=00:00:10.00 bitrate=N/A speed=1.98x    \n",
      "video:126kB audio:1876kB subtitle:0kB other streams:0kB global headers:0kB muxing overhead: unknown\n",
      "\u001b[1;32m[libvmaf @ 0x7fbab3407140] \u001b[0mVMAF score: 92.719639\n"
     ]
    }
   ],
   "source": [
    "# Create a compressed output video.\n",
    "output_file = 'output.mp4'\n",
    "!ffmpeg -v error -i {input_file} -crf 26 -y {output_file}\n",
    "\n",
    "# Calculate per frame PSNR, SSIM, VMAF. Caution: this may take a while.\n",
    "metric_log = 'metric.log'\n",
    "!rm {metric_log}\n",
    "!ffmpeg -hide_banner -i output.mp4 -i {input_file} -filter_complex \\\n",
    "    libvmaf=psnr=1:ssim=1:log_path={metric_log}:log_fmt=json:model_path=model/vmaf_v0.6.1.pkl -f null -\n"
   ]
  },
  {
   "cell_type": "code",
   "execution_count": 4,
   "metadata": {},
   "outputs": [
    {
     "ename": "NameError",
     "evalue": "name 'metric_log' is not defined",
     "output_type": "error",
     "traceback": [
      "\u001b[0;31m---------------------------------------------------------------------------\u001b[0m",
      "\u001b[0;31mNameError\u001b[0m                                 Traceback (most recent call last)",
      "\u001b[0;32m<ipython-input-4-786b88848983>\u001b[0m in \u001b[0;36m<module>\u001b[0;34m\u001b[0m\n\u001b[1;32m      2\u001b[0m \u001b[0;34m\u001b[0m\u001b[0m\n\u001b[1;32m      3\u001b[0m \u001b[0;32mimport\u001b[0m \u001b[0mjson\u001b[0m\u001b[0;34m\u001b[0m\u001b[0;34m\u001b[0m\u001b[0m\n\u001b[0;32m----> 4\u001b[0;31m \u001b[0;32mwith\u001b[0m \u001b[0mopen\u001b[0m\u001b[0;34m(\u001b[0m\u001b[0mmetric_log\u001b[0m\u001b[0;34m)\u001b[0m \u001b[0;32mas\u001b[0m \u001b[0mf\u001b[0m\u001b[0;34m:\u001b[0m\u001b[0;34m\u001b[0m\u001b[0;34m\u001b[0m\u001b[0m\n\u001b[0m\u001b[1;32m      5\u001b[0m   \u001b[0mdata\u001b[0m \u001b[0;34m=\u001b[0m \u001b[0mjson\u001b[0m\u001b[0;34m.\u001b[0m\u001b[0mload\u001b[0m\u001b[0;34m(\u001b[0m\u001b[0mf\u001b[0m\u001b[0;34m)\u001b[0m\u001b[0;34m\u001b[0m\u001b[0;34m\u001b[0m\u001b[0m\n\u001b[1;32m      6\u001b[0m \u001b[0;34m\u001b[0m\u001b[0m\n",
      "\u001b[0;31mNameError\u001b[0m: name 'metric_log' is not defined"
     ]
    }
   ],
   "source": [
    "# Plot the per frame PSNR/SSIM/VMAF.\n",
    "\n",
    "import json\n",
    "with open(metric_log) as f:\n",
    "  data = json.load(f)\n",
    "\n",
    "metric_dict = {\n",
    "    'index': list(range(len(data['frames']))),\n",
    "    'psnr': [f['metrics']['psnr'] for f in data['frames']],\n",
    "    'ssim': [f['metrics']['ssim'] for f in data['frames']],\n",
    "    'vmaf': [f['metrics']['vmaf'] for f in data['frames']]\n",
    "}\n",
    "\n",
    "from plotly.subplots import make_subplots\n",
    "import plotly.graph_objects as go\n",
    "\n",
    "fig = make_subplots(rows=1, cols=3, subplot_titles=['psnr', 'ssim', 'vmaf'])\n",
    "\n",
    "fig.add_trace(\n",
    "    go.Scatter(x=metric_dict['index'], y=metric_dict['psnr']),\n",
    "    row=1, col=1\n",
    ")\n",
    "fig.add_trace(\n",
    "    go.Scatter(x=metric_dict['index'], y=metric_dict['ssim']),\n",
    "    row=1, col=2\n",
    ")\n",
    "fig.add_trace(\n",
    "    go.Scatter(x=metric_dict['index'], y=metric_dict['vmaf']),\n",
    "    row=1, col=3\n",
    ")\n",
    "fig.update_layout(showlegend=False)\n",
    "fig.show()\n"
   ]
  },
  {
   "cell_type": "code",
   "execution_count": 6,
   "metadata": {
    "scrolled": false
   },
   "outputs": [
    {
     "data": {
      "text/html": [
       "\n",
       "<h3>Visual comparison at frame 78</h3>\n",
       "<img src='source.png?foo=0.144563'></img>\n",
       "<img src='compressed.png?foo=0.144563'></img>"
      ],
      "text/plain": [
       "<IPython.core.display.HTML object>"
      ]
     },
     "execution_count": 6,
     "metadata": {},
     "output_type": "execute_result"
    }
   ],
   "source": [
    "# Specify a frame index and show the source and compressed frames side by side.\n",
    "# Frame number range for the sample video: [0, 239].\n",
    "# To see a different frame, update frame_index and re-run the cell.\n",
    "\n",
    "frame_index = 78 # Starting from 0\n",
    "\n",
    "!ffmpeg -v error -i {input_file} -vf select=\"eq(n\\,{frame_index+1})\" -frames:v 1 -y source.png\n",
    "!ffmpeg -v error -i {output_file} -vf select=\"eq(n\\,{frame_index+1})\" -frames:v 1 -y compressed.png\n",
    "\n",
    "from IPython.display import HTML\n",
    "import random\n",
    "refresh = random.random()\n",
    "HTML(\"\"\"\n",
    "<h3>Visual comparison at frame %d</h3>\n",
    "<img src='source.png?foo=%f'></img>\n",
    "<img src='compressed.png?foo=%f'></img>\"\"\" % (frame_index, refresh, refresh))"
   ]
  },
  {
   "cell_type": "code",
   "execution_count": 7,
   "metadata": {
    "scrolled": true
   },
   "outputs": [
    {
     "data": {
      "text/html": [
       "\n",
       "<h3>Visualize motion vectors</h3>\n",
       "<video src='mv.mp4' loop controls autoplay/>\n"
      ],
      "text/plain": [
       "<IPython.core.display.HTML object>"
      ]
     },
     "execution_count": 7,
     "metadata": {},
     "output_type": "execute_result"
    }
   ],
   "source": [
    "# Use the 'codecview' filter to visualize motion vectors. \n",
    "# More details: https://ffmpeg.org/ffmpeg-filters.html#codecview\n",
    "#\n",
    "!ffmpeg -v error -flags2 +export_mvs -i {output_file} -vf codecview=mv=pf+bf+bb -y mv.mp4\n",
    "\n",
    "HTML('''\n",
    "<h3>Visualize motion vectors</h3>\n",
    "<video src='mv.mp4' loop controls autoplay/>\n",
    "''')"
   ]
  },
  {
   "cell_type": "code",
   "execution_count": null,
   "metadata": {},
   "outputs": [],
   "source": []
  },
  {
   "cell_type": "code",
   "execution_count": null,
   "metadata": {},
   "outputs": [],
   "source": []
  }
 ],
 "metadata": {
  "kernelspec": {
   "display_name": "Python 3",
   "language": "python",
   "name": "python3"
  },
  "language_info": {
   "codemirror_mode": {
    "name": "ipython",
    "version": 3
   },
   "file_extension": ".py",
   "mimetype": "text/x-python",
   "name": "python",
   "nbconvert_exporter": "python",
   "pygments_lexer": "ipython3",
   "version": "3.8.10"
  }
 },
 "nbformat": 4,
 "nbformat_minor": 4
}
