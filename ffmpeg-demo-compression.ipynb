{
 "cells": [
  {
   "cell_type": "markdown",
   "metadata": {},
   "source": [
    "# FFmpeg demo: video encoding"
   ]
  },
  {
   "cell_type": "code",
   "execution_count": 31,
   "metadata": {},
   "outputs": [
    {
     "name": "stdout",
     "output_type": "stream",
     "text": [
      "-rwxrw-r-- 1 naveen naveen 1784 May  8 11:43 ./model/vmaf_v0.6.1.json\r\n"
     ]
    }
   ],
   "source": [
    "# If your ./model/vmaf_v0.6.1.json file exists, DONT RUN THIS!\n",
    "\n",
    "# Converts pickle to json\n",
    "\"\"\"\n",
    "Pickle2JSON is a simple Python Command Line program for converting Pickle file to JSON file.\n",
    "Arguments: Only one (1) argument is expected which is the pickle file.\n",
    "Usage: python pickle2json.py myfile.pkl\n",
    "Output: The output is a JSON file bearing the same filename containing the JSON document of the converted Pickle file.\n",
    "\"\"\"\n",
    "\n",
    "# import libraries\n",
    "import pickle\n",
    "import json\n",
    "import sys\n",
    "import os\n",
    "\n",
    "# open pickle file\n",
    "with open('./model/vmaf_v0.6.1.pkl', 'rb') as infile:\n",
    "    obj = pickle.load(infile)\n",
    "\n",
    "# convert pickle object to json object\n",
    "json_obj = json.loads(json.dumps(obj, default=str))\n",
    "\n",
    "# write the json file\n",
    "with open(\n",
    "        './model/vmaf_v0.6.1.json',\n",
    "        'w',\n",
    "        encoding='utf-8'\n",
    "    ) as outfile:\n",
    "    json.dump(json_obj, outfile, ensure_ascii=False, indent=4)\n",
    "\n",
    "!ls -al ./model/vmaf*.json\n",
    "!chmod u+rwx ./model/vmaf*.json"
   ]
  },
  {
   "cell_type": "code",
   "execution_count": 2,
   "metadata": {},
   "outputs": [
    {
     "name": "stdout",
     "output_type": "stream",
     "text": [
      "  % Total    % Received % Xferd  Average Speed   Time    Time     Time  Current\n",
      "                                 Dload  Upload   Total   Spent    Left  Speed\n",
      "100 38.9M  100 38.9M    0     0  2552k      0  0:00:15  0:00:15 --:--:-- 1978k\n",
      "sh: 0: Can't open ffmpeg-*-static/configure\n",
      "env: PATH=/home/naveen/installations/anaconda3/condabin:/home/naveen/platform-tools:/home/naveen/.cargo/bin:/home/naveen/.local/bin:/home/naveen/bin:/usr/local/sbin:/usr/local/bin:/usr/sbin:/usr/bin:/sbin:/bin:/usr/games:/usr/local/games:/snap/bin:/usr/lib/jvm/java-15-oracle/bin:/usr/lib/jvm/java-15-oracle/db/bin:/home/naveen/.local/bin:/home/naveen/bin:./util/ffmpeg-5.0.1-amd64-static\n",
      "./util/ffmpeg-5.0.1-amd64-static/ffmpeg\n",
      "Done!\n"
     ]
    }
   ],
   "source": [
    "# Download a static FFmpeg build and add it to PATH.\n",
    "%run 'util/load-ffmpeg.ipynb'\n",
    "print('Done!')"
   ]
  },
  {
   "cell_type": "code",
   "execution_count": 3,
   "metadata": {
    "scrolled": false
   },
   "outputs": [
    {
     "name": "stdout",
     "output_type": "stream",
     "text": [
      "Input #0, mov,mp4,m4a,3gp,3g2,mj2, from 'input.mp4':\n",
      "  Metadata:\n",
      "    major_brand     : isom\n",
      "    minor_version   : 512\n",
      "    compatible_brands: isomiso2avc1mp41\n",
      "    encoder         : Lavf58.29.100\n",
      "  Duration: 00:00:10.02, start: 0.000000, bitrate: 2018 kb/s\n",
      "  Stream #0:0[0x1](und): Video: h264 (High) (avc1 / 0x31637661), yuv420p(progressive), 864x360 [SAR 1:1 DAR 12:5], 1885 kb/s, 24 fps, 24 tbr, 12288 tbn (default)\n",
      "    Metadata:\n",
      "      handler_name    : VideoHandler\n",
      "      vendor_id       : [0][0][0][0]\n",
      "  Stream #0:1[0x2](und): Audio: aac (LC) (mp4a / 0x6134706D), 48000 Hz, stereo, fltp, 128 kb/s (default)\n",
      "    Metadata:\n",
      "      handler_name    : SoundHandler\n",
      "      vendor_id       : [0][0][0][0]\n",
      "Done!\n"
     ]
    }
   ],
   "source": [
    "# [optional] Print input video information. You can upload another video file and change the file name below.\n",
    "!ffprobe -hide_banner input.mp4\n",
    "print('Done!')"
   ]
  },
  {
   "cell_type": "code",
   "execution_count": 4,
   "metadata": {
    "scrolled": false
   },
   "outputs": [
    {
     "name": "stdout",
     "output_type": "stream",
     "text": [
      "Input #0, mov,mp4,m4a,3gp,3g2,mj2, from 'input.mp4':\n",
      "  Metadata:\n",
      "    major_brand     : isom\n",
      "    minor_version   : 512\n",
      "    compatible_brands: isomiso2avc1mp41\n",
      "    encoder         : Lavf58.29.100\n",
      "  Duration: 00:00:10.02, start: 0.000000, bitrate: 2018 kb/s\n",
      "  Stream #0:0[0x1](und): Video: h264 (High) (avc1 / 0x31637661), yuv420p(progressive), 864x360 [SAR 1:1 DAR 12:5], 1885 kb/s, 24 fps, 24 tbr, 12288 tbn (default)\n",
      "    Metadata:\n",
      "      handler_name    : VideoHandler\n",
      "      vendor_id       : [0][0][0][0]\n",
      "  Stream #0:1[0x2](und): Audio: aac (LC) (mp4a / 0x6134706D), 48000 Hz, stereo, fltp, 128 kb/s (default)\n",
      "    Metadata:\n",
      "      handler_name    : SoundHandler\n",
      "      vendor_id       : [0][0][0][0]\n",
      "Stream mapping:\n",
      "  Stream #0:0 -> #0:0 (h264 (native) -> h264 (libx264))\n",
      "  Stream #0:1 -> #0:1 (aac (native) -> aac (native))\n",
      "Press [q] to stop, [?] for help\n",
      "x265 [info]: HEVC encoder version 3.5+1-f0c1022b6\n",
      "x265 [info]: build info [Linux][GCC 8.3.0][64 bit] 8bit+10bit+12bit\n",
      "x265 [info]: using cpu capabilities: MMX2 SSE2Fast LZCNT SSSE3 SSE4.2 AVX FMA3 BMI2 AVX2\n",
      "x265 [info]: Main profile, Level-3 (Main tier)\n",
      "x265 [info]: Thread pool created using 4 threads\n",
      "x265 [info]: Slices                              : 1\n",
      "x265 [info]: frame threads / pool features       : 2 / wpp(6 rows)\n",
      "x265 [warning]: Source height < 720p; disabling lookahead-slices\n",
      "x265 [info]: Coding QT: max CU size, min CU size : 64 / 8\n",
      "x265 [info]: Residual QT: max TU size, max depth : 32 / 1 inter / 1 intra\n",
      "x265 [info]: ME / range / subpel / merge         : hex / 57 / 2 / 3\n",
      "x265 [info]: Keyframe min / max / scenecut / bias  : 24 / 250 / 40 / 5.00 \n",
      "x265 [info]: Lookahead / bframes / badapt        : 20 / 4 / 2\n",
      "x265 [info]: b-pyramid / weightp / weightb       : 1 / 1 / 0\n",
      "x265 [info]: References / ref-limit  cu / depth  : 3 / off / on\n",
      "x265 [info]: AQ: mode / str / qg-size / cu-tree  : 2 / 1.0 / 32 / 1\n",
      "x265 [info]: Rate Control / qCompress            : CRF-25.0 / 0.60\n",
      "x265 [info]: tools: rd=3 psy-rd=2.00 early-skip rskip mode=1 signhide tmvp\n",
      "x265 [info]: tools: b-intra strong-intra-smoothing deblock sao\n",
      "Output #0, mp4, to 'output.mp4':\n",
      "  Metadata:\n",
      "    major_brand     : isom\n",
      "    minor_version   : 512\n",
      "    compatible_brands: isomiso2avc1mp41\n",
      "    encoder         : Lavf59.16.100\n",
      "  Stream #0:0(und): Video: h264 (avc1 / 0x31637661), yuv420p(progressive), 864x360 [SAR 1:1 DAR 12:5], q=2-31, 600 kb/s, 24 fps, 12288 tbn (default)\n",
      "    Metadata:\n",
      "      handler_name    : VideoHandler\n",
      "      vendor_id       : [0][0][0][0]\n",
      "      encoder         : Lavc59.18.100 libx264\n",
      "    Side data:\n",
      "      cpb: bitrate max/min/avg: 0/0/600000 buffer size: 0 vbv_delay: N/A\n",
      "  Stream #0:1(und): Audio: aac (LC) (mp4a / 0x6134706D), 48000 Hz, stereo, fltp, 128 kb/s (default)\n",
      "    Metadata:\n",
      "      handler_name    : SoundHandler\n",
      "      vendor_id       : [0][0][0][0]\n",
      "      encoder         : Lavc59.18.100 aac\n",
      "frame=  240 fps= 35 q=32.7 Lsize=    1012kB time=00:00:10.00 bitrate= 828.9kbits/s speed=1.45x    \n",
      "video:842kB audio:156kB subtitle:0kB other streams:0kB global headers:2kB muxing overhead: 1.352395%\n",
      "x265 [info]: frame I:      3, Avg QP:21.98  kb/s: 8628.48 \n",
      "x265 [info]: frame P:     61, Avg QP:23.94  kb/s: 2128.77 \n",
      "x265 [info]: frame B:    176, Avg QP:31.73  kb/s: 55.20   \n",
      "x265 [info]: Weighted P-Frames: Y:0.0% UV:0.0%\n",
      "x265 [info]: consecutive B-frames: 6.2% 3.1% 1.6% 87.5% 1.6% \n",
      "\n",
      "encoded 240 frames in 6.84s (35.07 fps), 689.40 kb/s, Avg QP:29.63\n",
      "\u001b[1;36m[aac @ 0x5a6a600] \u001b[0mQavg: 248.530\n",
      "Done!\n"
     ]
    }
   ],
   "source": [
    "# Compress input.mp4 to a target bitrate and save as output.mp4. \n",
    "# Change the command line flags as you need for different encoding settings.\n",
    "\n",
    "# !ffmpeg -hide_banner -i input.mp4 -b:v 600k -y output.mp4\n",
    "!ffmpeg -hide_banner -i input.mp4 -c:v libx265 -crf 25 -y output.mp4\n",
    "\n",
    "print('Done!')"
   ]
  },
  {
   "cell_type": "code",
   "execution_count": 11,
   "metadata": {},
   "outputs": [
    {
     "name": "stdout",
     "output_type": "stream",
     "text": [
      "Input #0, mov,mp4,m4a,3gp,3g2,mj2, from 'output.mp4':\n",
      "  Metadata:\n",
      "    major_brand     : isom\n",
      "    minor_version   : 512\n",
      "    compatible_brands: isomiso2mp41\n",
      "    encoder         : Lavf59.16.100\n",
      "  Duration: 00:00:10.01, start: 0.000000, bitrate: 467 kb/s\n",
      "  Stream #0:0[0x1](und): Video: hevc (Main) (hev1 / 0x31766568), yuv420p(tv, progressive), 864x360 [SAR 1:1 DAR 12:5], 328 kb/s, 24 fps, 24 tbr, 12288 tbn (default)\n",
      "    Metadata:\n",
      "      handler_name    : VideoHandler\n",
      "      vendor_id       : [0][0][0][0]\n",
      "  Stream #0:1[0x2](und): Audio: aac (LC) (mp4a / 0x6134706D), 48000 Hz, stereo, fltp, 127 kb/s (default)\n",
      "    Metadata:\n",
      "      handler_name    : SoundHandler\n",
      "      vendor_id       : [0][0][0][0]\n",
      "Done!\n"
     ]
    }
   ],
   "source": [
    "# [optional] Print input video information. You can upload another video file and change the file name below.\n",
    "!ffprobe -hide_banner output.mp4\n",
    "print('Done!')"
   ]
  },
  {
   "cell_type": "code",
   "execution_count": 12,
   "metadata": {},
   "outputs": [
    {
     "data": {
      "text/html": [
       "\n",
       "<html>\n",
       "<style>\n",
       ".controls {\n",
       "    margin: 0;\n",
       "    position: absolute;\n",
       "    top: 50%;\n",
       "    left: 100%;\n",
       "    -ms-transform: translate(-100%, -50%);\n",
       "    transform: translate(-100%, -50%);\n",
       "}\n",
       "button {\n",
       "    display: block;\n",
       "    padding: 5px 16px;\n",
       "    border-radius: 3px;\n",
       "    cursor: pointer;\n",
       "    background-color: white;\n",
       "    border-color: navy;\n",
       "    width: 100px;\n",
       "}\n",
       "</style>\n",
       "\n",
       "<div>\n",
       "<video muted loop controls id='video-ref'>\n",
       "  <source src=\"input.mp4\" type=\"video/mp4\">\n",
       "</video>\n",
       "</div>\n",
       "<div class='controls'>\n",
       "  <button id='button-play'>Pause</button>\n",
       "  <button id='button-sync'>Sync</button>\n",
       "</div>\n",
       "<div>\n",
       "<video muted loop controls id='video-target'>\n",
       "  <source src=\"output.mp4\" type=\"video/mp4\">\n",
       "</video>\n",
       "</div>\n",
       "\n",
       "<script>\n",
       "    var v1 = document.querySelector('#video-ref');\n",
       "    var v2 = document.querySelector('#video-target');\n",
       "    function seek(sec) {\n",
       "      v1.currentTime = sec;\n",
       "      v2.currentTime = sec;\n",
       "    }\n",
       "    document.querySelector('#button-sync').addEventListener('click', (e)=>{\n",
       "        seek(v1.currentTime);\n",
       "    });\n",
       "    document.querySelector('#button-play').addEventListener('click', (e)=>{\n",
       "        if (e.target.textContent == 'Pause') {\n",
       "            e.target.textContent = 'Resume';\n",
       "            v1.pause();\n",
       "            v2.pause();\n",
       "        } else {\n",
       "            e.target.textContent = 'Pause';\n",
       "            v1.play();\n",
       "            v2.play();\n",
       "        }\n",
       "    });\n",
       "    v1.play();\n",
       "    v2.play();\n",
       "</script>\n",
       "</html>"
      ],
      "text/plain": [
       "<IPython.core.display.HTML object>"
      ]
     },
     "execution_count": 7,
     "metadata": {},
     "output_type": "execute_result"
    }
   ],
   "source": [
    "# Display both the source (top) video and encoded (bottom) video.\n",
    "# Sometimes the two players get out of sync. Press \"sync\" to mitigate that.\n",
    "\n",
    "%run util/play-video.ipynb --ref input.mp4 --tar output.mp4\n",
    "HTML(html)"
   ]
  },
  {
   "cell_type": "code",
   "execution_count": 8,
   "metadata": {},
   "outputs": [
    {
     "name": "stdout",
     "output_type": "stream",
     "text": [
      "[Parsed_psnr_0 @ 0x6de91c0] PSNR y:38.654581 u:43.869039 v:45.569482 average:39.899660 min:36.358351 max:45.248194\n",
      "[Parsed_ssim_0 @ 0x6ddd1c0] SSIM Y:0.974913 (16.005455) U:0.971002 (15.376328) V:0.979032 (16.784421) All:0.974947 (16.011480)\n",
      "[libvmaf @ 0x751b140] VMAF score: 93.130299\n",
      "Done!\n"
     ]
    }
   ],
   "source": [
    "# Calculate PSNR between input.mp4 and output.mp4\n",
    "!ffmpeg -hide_banner -i output.mp4 -i input.mp4 -lavfi psnr -f null - 2>&1 | grep \"Parsed_psnr_0\"\n",
    "\n",
    "# Calculate SSIM between input.mp4 and output.mp4\n",
    "!ffmpeg -hide_banner -i output.mp4 -i input.mp4 -lavfi ssim -f null - 2>&1 | grep \"Parsed_ssim_0\"\n",
    "\n",
    "# Calculate VMAF between input.mp4 (ref) and output.mp4 (target).\n",
    "!ffmpeg -hide_banner -i output.mp4 -i input.mp4 \\\n",
    "  -lavfi \"libvmaf=model_path=./model/vmaf_v0.6.1.json\" -f null - 2>&1 | grep 'VMAF' \\\n",
    "  || echo 'VMAF calculation failed!'\n",
    "\n",
    "print('Done!')"
   ]
  },
  {
   "cell_type": "code",
   "execution_count": 14,
   "metadata": {},
   "outputs": [
    {
     "name": "stdout",
     "output_type": "stream",
     "text": [
      "ffmpeg version 5.0.1-static https://johnvansickle.com/ffmpeg/  Copyright (c) 2000-2022 the FFmpeg developers\r\n",
      "  built with gcc 8 (Debian 8.3.0-6)\r\n",
      "  configuration: --enable-gpl --enable-version3 --enable-static --disable-debug --disable-ffplay --disable-indev=sndio --disable-outdev=sndio --cc=gcc --enable-fontconfig --enable-frei0r --enable-gnutls --enable-gmp --enable-libgme --enable-gray --enable-libaom --enable-libfribidi --enable-libass --enable-libvmaf --enable-libfreetype --enable-libmp3lame --enable-libopencore-amrnb --enable-libopencore-amrwb --enable-libopenjpeg --enable-librubberband --enable-libsoxr --enable-libspeex --enable-libsrt --enable-libvorbis --enable-libopus --enable-libtheora --enable-libvidstab --enable-libvo-amrwbenc --enable-libvpx --enable-libwebp --enable-libx264 --enable-libx265 --enable-libxml2 --enable-libdav1d --enable-libxvid --enable-libzvbi --enable-libzimg\r\n",
      "  libavutil      57. 17.100 / 57. 17.100\r\n",
      "  libavcodec     59. 18.100 / 59. 18.100\r\n",
      "  libavformat    59. 16.100 / 59. 16.100\r\n",
      "  libavdevice    59.  4.100 / 59.  4.100\r\n",
      "  libavfilter     8. 24.100 /  8. 24.100\r\n",
      "  libswscale      6.  4.100 /  6.  4.100\r\n",
      "  libswresample   4.  3.100 /  4.  3.100\r\n",
      "  libpostproc    56.  3.100 / 56.  3.100\r\n",
      "Hyper fast Audio and Video encoder\r\n",
      "usage: ffmpeg [options] [[infile options] -i infile]... {[outfile options] outfile}...\r\n",
      "\r\n",
      "Getting help:\r\n",
      "    -h      -- print basic options\r\n",
      "    -h long -- print more options\r\n",
      "    -h full -- print all options (including all format and codec specific options, very long)\r\n",
      "    -h type=name -- print all options for the named decoder/encoder/demuxer/muxer/filter/bsf/protocol\r\n",
      "    See man ffmpeg for detailed description of the options.\r\n",
      "\r\n",
      "Print help / information / capabilities:\r\n",
      "-L                  show license\r\n",
      "-h topic            show help\r\n",
      "-? topic            show help\r\n",
      "-help topic         show help\r\n",
      "--help topic        show help\r\n",
      "-version            show version\r\n",
      "-buildconf          show build configuration\r\n",
      "-formats            show available formats\r\n",
      "-muxers             show available muxers\r\n",
      "-demuxers           show available demuxers\r\n",
      "-devices            show available devices\r\n",
      "-codecs             show available codecs\r\n",
      "-decoders           show available decoders\r\n",
      "-encoders           show available encoders\r\n",
      "-bsfs               show available bit stream filters\r\n",
      "-protocols          show available protocols\r\n",
      "-filters            show available filters\r\n",
      "-pix_fmts           show available pixel formats\r\n",
      "-layouts            show standard channel layouts\r\n",
      "-sample_fmts        show available audio sample formats\r\n",
      "-dispositions       show available stream dispositions\r\n",
      "-colors             show available color names\r\n",
      "-sources device     list sources of the input device\r\n",
      "-sinks device       list sinks of the output device\r\n",
      "-hwaccels           show available HW acceleration methods\r\n",
      "\r\n",
      "Global options (affect whole program instead of just one file):\r\n",
      "-loglevel loglevel  set logging level\r\n",
      "-v loglevel         set logging level\r\n",
      "-report             generate a report\r\n",
      "-max_alloc bytes    set maximum size of a single allocated block\r\n",
      "-y                  overwrite output files\r\n",
      "-n                  never overwrite output files\r\n",
      "-ignore_unknown     Ignore unknown stream types\r\n",
      "-filter_threads     number of non-complex filter threads\r\n",
      "-filter_complex_threads  number of threads for -filter_complex\r\n",
      "-stats              print progress report during encoding\r\n",
      "-max_error_rate maximum error rate  ratio of decoding errors (0.0: no errors, 1.0: 100% errors) above which ffmpeg returns an error instead of success.\r\n",
      "-vol volume         change audio volume (256=normal)\r\n",
      "\r\n",
      "Per-file main options:\r\n",
      "-f fmt              force format\r\n",
      "-c codec            codec name\r\n",
      "-codec codec        codec name\r\n",
      "-pre preset         preset name\r\n",
      "-map_metadata outfile[,metadata]:infile[,metadata]  set metadata information of outfile from infile\r\n",
      "-t duration         record or transcode \"duration\" seconds of audio/video\r\n",
      "-to time_stop       record or transcode stop time\r\n",
      "-fs limit_size      set the limit file size in bytes\r\n",
      "-ss time_off        set the start time offset\r\n",
      "-sseof time_off     set the start time offset relative to EOF\r\n",
      "-seek_timestamp     enable/disable seeking by timestamp with -ss\r\n",
      "-timestamp time     set the recording timestamp ('now' to set the current time)\r\n",
      "-metadata string=string  add metadata\r\n",
      "-program title=string:st=number...  add program with specified streams\r\n",
      "-target type        specify target file type (\"vcd\", \"svcd\", \"dvd\", \"dv\" or \"dv50\" with optional prefixes \"pal-\", \"ntsc-\" or \"film-\")\r\n",
      "-apad               audio pad\r\n",
      "-frames number      set the number of frames to output\r\n",
      "-filter filter_graph  set stream filtergraph\r\n",
      "-filter_script filename  read stream filtergraph description from a file\r\n",
      "-reinit_filter      reinit filtergraph on input parameter changes\r\n",
      "-discard            discard\r\n",
      "-disposition        disposition\r\n",
      "\r\n",
      "Video options:\r\n",
      "-vframes number     set the number of video frames to output\r\n",
      "-r rate             set frame rate (Hz value, fraction or abbreviation)\r\n",
      "-fpsmax rate        set max frame rate (Hz value, fraction or abbreviation)\r\n",
      "-s size             set frame size (WxH or abbreviation)\r\n",
      "-aspect aspect      set aspect ratio (4:3, 16:9 or 1.3333, 1.7777)\r\n",
      "-vn                 disable video\r\n",
      "-vcodec codec       force video codec ('copy' to copy stream)\r\n",
      "-timecode hh:mm:ss[:;.]ff  set initial TimeCode value.\r\n",
      "-pass n             select the pass number (1 to 3)\r\n",
      "-vf filter_graph    set video filters\r\n",
      "-ab bitrate         audio bitrate (please use -b:a)\r\n",
      "-b bitrate          video bitrate (please use -b:v)\r\n",
      "-dn                 disable data\r\n",
      "\r\n",
      "Audio options:\r\n",
      "-aframes number     set the number of audio frames to output\r\n",
      "-aq quality         set audio quality (codec-specific)\r\n",
      "-ar rate            set audio sampling rate (in Hz)\r\n",
      "-ac channels        set number of audio channels\r\n",
      "-an                 disable audio\r\n",
      "-acodec codec       force audio codec ('copy' to copy stream)\r\n",
      "-vol volume         change audio volume (256=normal)\r\n",
      "-af filter_graph    set audio filters\r\n",
      "\r\n",
      "Subtitle options:\r\n",
      "-s size             set frame size (WxH or abbreviation)\r\n",
      "-sn                 disable subtitle\r\n",
      "-scodec codec       force subtitle codec ('copy' to copy stream)\r\n",
      "-stag fourcc/tag    force subtitle tag/fourcc\r\n",
      "-fix_sub_duration   fix subtitles duration\r\n",
      "-canvas_size size   set canvas size (WxH or abbreviation)\r\n",
      "-spre preset        set the subtitle options to the indicated preset\r\n",
      "\r\n",
      "\r\n"
     ]
    }
   ],
   "source": [
    "!ffmpeg -h"
   ]
  },
  {
   "cell_type": "code",
   "execution_count": null,
   "metadata": {},
   "outputs": [],
   "source": []
  }
 ],
 "metadata": {
  "kernelspec": {
   "display_name": "Python 3",
   "language": "python",
   "name": "python3"
  },
  "language_info": {
   "codemirror_mode": {
    "name": "ipython",
    "version": 3
   },
   "file_extension": ".py",
   "mimetype": "text/x-python",
   "name": "python",
   "nbconvert_exporter": "python",
   "pygments_lexer": "ipython3",
   "version": "3.8.10"
  }
 },
 "nbformat": 4,
 "nbformat_minor": 4
}
